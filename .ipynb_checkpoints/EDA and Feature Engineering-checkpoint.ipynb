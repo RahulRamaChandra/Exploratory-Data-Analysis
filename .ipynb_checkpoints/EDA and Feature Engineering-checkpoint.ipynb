{
 "cells": [
  {
   "cell_type": "markdown",
   "id": "e896c9cd",
   "metadata": {},
   "source": [
    "# Flight Prediction Dataset\n",
    " Dataset: https://github.com/krishnaik06/5-Days-Live-EDA-and-Feature-Engineering/tree/main/Flight%20Prediction"
   ]
  },
  {
   "cell_type": "markdown",
   "id": "15e452d8",
   "metadata": {},
   "source": [
    "## To locate rows containing null values"
   ]
  },
  {
   "cell_type": "code",
   "execution_count": null,
   "id": "7769dc5c",
   "metadata": {},
   "outputs": [],
   "source": [
    "# to locate rows containing null values\n",
    "train_df[train_df.isna().any(axis = 1)]"
   ]
  },
  {
   "cell_type": "markdown",
   "id": "51dfd4be",
   "metadata": {},
   "source": [
    "## Appending train and test dataset for EDA and Feature Engineering"
   ]
  },
  {
   "cell_type": "code",
   "execution_count": 1,
   "id": "3d595f5f",
   "metadata": {},
   "outputs": [
    {
     "ename": "NameError",
     "evalue": "name 'train_df' is not defined",
     "output_type": "error",
     "traceback": [
      "\u001b[1;31m---------------------------------------------------------------------------\u001b[0m",
      "\u001b[1;31mNameError\u001b[0m                                 Traceback (most recent call last)",
      "Input \u001b[1;32mIn [1]\u001b[0m, in \u001b[0;36m<cell line: 1>\u001b[1;34m()\u001b[0m\n\u001b[1;32m----> 1\u001b[0m final_df \u001b[38;5;241m=\u001b[39m \u001b[43mtrain_df\u001b[49m\u001b[38;5;241m.\u001b[39mappend(test_df)\n\u001b[0;32m      2\u001b[0m final_df\u001b[38;5;241m.\u001b[39mhead()\n",
      "\u001b[1;31mNameError\u001b[0m: name 'train_df' is not defined"
     ]
    }
   ],
   "source": [
    "final_df = train_df.append(test_df)\n",
    "final_df.head()"
   ]
  },
  {
   "cell_type": "markdown",
   "id": "93e14c96",
   "metadata": {},
   "source": [
    "## Feature Engineering on Date Field"
   ]
  },
  {
   "cell_type": "code",
   "execution_count": null,
   "id": "840e0413",
   "metadata": {},
   "outputs": [],
   "source": [
    "df['Date'] = df['Date_of_journey'].apply(lambda x:x.split('/')[0])\n",
    "df['Month'] = df['Date_of_journey'].apply(lambda x:x.split('/')[1])\n",
    "df['Year'] = df['Date_of_journey'].apply(lambda x:x.split('/')[2])"
   ]
  },
  {
   "cell_type": "code",
   "execution_count": null,
   "id": "0a62b9b5",
   "metadata": {},
   "outputs": [],
   "source": [
    "df['Date'] = df['Date'].astype(int)\n",
    "df['Month'] = df['Month'].astype(int)\n",
    "df['year'] = df['year'].astype(int)"
   ]
  },
  {
   "cell_type": "code",
   "execution_count": null,
   "id": "f4ad8cce",
   "metadata": {},
   "outputs": [],
   "source": [
    "final_df.drop('Date_of_Journey',axis=1,inplace=True)"
   ]
  },
  {
   "cell_type": "markdown",
   "id": "ac068831",
   "metadata": {},
   "source": [
    "## Feature Engineering on Datetime field"
   ]
  },
  {
   "cell_type": "code",
   "execution_count": null,
   "id": "2e7a7eff",
   "metadata": {},
   "outputs": [],
   "source": [
    "final_df['Arrival_Time']=final_df['Arrival_Time'].apply(lambda x : x.split(' ')[0])"
   ]
  },
  {
   "cell_type": "code",
   "execution_count": null,
   "id": "d3d94506",
   "metadata": {},
   "outputs": [],
   "source": [
    "final_df['Arrival_hour']=final_df['Arrival_Time'].str.split(':').str[0]\n",
    "final_df['Arrival_min']=final_df['Arrival_Time'].str.split(':').str[1]"
   ]
  },
  {
   "cell_type": "code",
   "execution_count": null,
   "id": "f8b6678d",
   "metadata": {},
   "outputs": [],
   "source": [
    "final_df['Arrival_hour'] = final_df['Arrival_Time'].apply(lambda x:x.split(':')[0])\n",
    "final_df['Arrival_min'] = final_df['Arrival_Time'].apply(lambda x:x.split(':')[1])"
   ]
  },
  {
   "cell_type": "code",
   "execution_count": null,
   "id": "70e0e0b7",
   "metadata": {},
   "outputs": [],
   "source": [
    "final_df['Arrival_hour']=final_df['Arrival_hour'].astype(int)\n",
    "final_df['Arrival_min']=final_df['Arrival_min'].astype(int)"
   ]
  },
  {
   "cell_type": "code",
   "execution_count": null,
   "id": "39e5cf8f",
   "metadata": {},
   "outputs": [],
   "source": [
    "final_df.drop('Arrival_Time',axis=1,inplace=True)"
   ]
  },
  {
   "cell_type": "markdown",
   "id": "fa42c6bd",
   "metadata": {},
   "source": [
    "## Feature Engineering on time field"
   ]
  },
  {
   "cell_type": "code",
   "execution_count": null,
   "id": "9b7120e2",
   "metadata": {},
   "outputs": [],
   "source": [
    "final_df['Dept_hour']=final_df['Dep_Time'].str.split(':').str[0]\n",
    "final_df['Dept_min']=final_df['Dep_Time'].str.split(':').str[1]\n",
    "final_df['Dept_hour']=final_df['Dept_hour'].astype(int)\n",
    "final_df['Dept_min']=final_df['Dept_min'].astype(int)\n",
    "final_df.drop('Dep_Time',axis=1,inplace=True)"
   ]
  },
  {
   "cell_type": "code",
   "execution_count": null,
   "id": "092e37cd",
   "metadata": {},
   "outputs": [],
   "source": [
    "final_df['Dept_hour']=final_df['Dep_Time'].apply(lambda x :x.split(':')[0]).astype(int)\n",
    "final_df['Dept_min']=final_df['Dep_Time'].apply(lambda x:x.split(':')[1]).astype(int)\n",
    "final_df.drop(columns = ['Dep_Time'], axis = 1, inplace = True)"
   ]
  }
 ],
 "metadata": {
  "kernelspec": {
   "display_name": "Python 3 (ipykernel)",
   "language": "python",
   "name": "python3"
  },
  "language_info": {
   "codemirror_mode": {
    "name": "ipython",
    "version": 3
   },
   "file_extension": ".py",
   "mimetype": "text/x-python",
   "name": "python",
   "nbconvert_exporter": "python",
   "pygments_lexer": "ipython3",
   "version": "3.9.12"
  }
 },
 "nbformat": 4,
 "nbformat_minor": 5
}
