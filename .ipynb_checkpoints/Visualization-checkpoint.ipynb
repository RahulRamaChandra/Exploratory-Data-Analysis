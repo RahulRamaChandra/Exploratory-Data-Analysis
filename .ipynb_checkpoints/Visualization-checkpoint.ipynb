{
 "cells": [
  {
   "cell_type": "markdown",
   "id": "45bfef50",
   "metadata": {},
   "source": [
    "### Heat map\n",
    "Used to check corelation between the features"
   ]
  },
  {
   "cell_type": "code",
   "execution_count": 1,
   "id": "5bb1de2c",
   "metadata": {},
   "outputs": [
    {
     "ename": "NameError",
     "evalue": "name 'data' is not defined",
     "output_type": "error",
     "traceback": [
      "\u001b[1;31m---------------------------------------------------------------------------\u001b[0m",
      "\u001b[1;31mNameError\u001b[0m                                 Traceback (most recent call last)",
      "Input \u001b[1;32mIn [1]\u001b[0m, in \u001b[0;36m<cell line: 4>\u001b[1;34m()\u001b[0m\n\u001b[0;32m      2\u001b[0m \u001b[38;5;28;01mimport\u001b[39;00m \u001b[38;5;21;01mmatplotlib\u001b[39;00m\u001b[38;5;21;01m.\u001b[39;00m\u001b[38;5;21;01mpyplot\u001b[39;00m \u001b[38;5;28;01mas\u001b[39;00m \u001b[38;5;21;01mplt\u001b[39;00m\n\u001b[0;32m      3\u001b[0m plt\u001b[38;5;241m.\u001b[39mfigure(figsize \u001b[38;5;241m=\u001b[39m (\u001b[38;5;241m10\u001b[39m,\u001b[38;5;241m10\u001b[39m))\n\u001b[1;32m----> 4\u001b[0m sns\u001b[38;5;241m.\u001b[39mheatmap(\u001b[43mdata\u001b[49m\u001b[38;5;241m.\u001b[39mcorr(), annot\u001b[38;5;241m=\u001b[39m\u001b[38;5;28;01mTrue\u001b[39;00m, cmap\u001b[38;5;241m=\u001b[39m \u001b[38;5;124m'\u001b[39m\u001b[38;5;124mGnYlRd\u001b[39m\u001b[38;5;124m'\u001b[39m)\n",
      "\u001b[1;31mNameError\u001b[0m: name 'data' is not defined"
     ]
    },
    {
     "data": {
      "text/plain": [
       "<Figure size 720x720 with 0 Axes>"
      ]
     },
     "metadata": {},
     "output_type": "display_data"
    }
   ],
   "source": [
    "import seaborn as sns\n",
    "import matplotlib.pyplot as plt\n",
    "plt.figure(figsize = (10,10))\n",
    "sns.heatmap(data.corr(), annot=True, cmap= 'GnYlRd')"
   ]
  },
  {
   "cell_type": "markdown",
   "id": "0570790a",
   "metadata": {},
   "source": [
    "## Plotting figure showing the relationship between independent features and dependent feature\n",
    "the figures can be \n",
    "    >> Scatter plot\n",
    "    \n",
    "where, \n",
    "y - dependent feature(label)"
   ]
  },
  {
   "cell_type": "code",
   "execution_count": null,
   "id": "8da11608",
   "metadata": {},
   "outputs": [],
   "source": [
    "plt.figure(figsize = (20,30), facecolor = 'white')\n",
    "plotnumber = 1\n",
    "\n",
    "for column in x :\n",
    "    if plotnumber <= 12 :\n",
    "        ax = plt.subplot(4,3,plotnumber)\n",
    "        plt.scatter(df[column],y)\n",
    "        plt.xlabel(column,fontsize=20)\n",
    "        plt.ylabel('Chance of Admit', fontsize = 20)\n",
    "    plotnumber += 1\n",
    "plt.tight_layout()\n"
   ]
  },
  {
   "cell_type": "markdown",
   "id": "a7511c53",
   "metadata": {},
   "source": [
    "## Method for creating the countplot  based on hour  for a given year\n",
    "Bike dataset (EDA)"
   ]
  },
  {
   "cell_type": "code",
   "execution_count": null,
   "id": "5e97d74d",
   "metadata": {},
   "outputs": [],
   "source": [
    "def plot_by_hour(data, year= None, agg='sum'):\n",
    "    dd = data\n",
    "    if year: dd = dd[dd.datetime.dt.year == year]\n",
    "    dd.loc[:,('hour')] = dd.datetime.dt.hour # extracting the hour data if the year in the data is equal to the year passed as argument\n",
    "    \n",
    "    by_hour = dd.groupby(['hour','workingday'])['count'].agg(agg).unstack() # groupby hour and working day\n",
    "    return by_hour.plot(kind = 'bar', ylim=(0,80000), figsize=(15,5), width=0.9, title = 'Year = {0}'.format(year)) #returning the figure grouped by hour\n",
    "\n",
    "plot_by_hour(train, year=2011) # plotting the count plot based on hour for 2011\n",
    "plot_by_hour(train, year=2012) # plotting the count plot based on hour for 2012\n",
    "        \n",
    "        "
   ]
  },
  {
   "cell_type": "markdown",
   "id": "b78c036e",
   "metadata": {},
   "source": [
    "## Method for creating a count plot based on year\n",
    "Bike dataset (EDA)"
   ]
  },
  {
   "cell_type": "code",
   "execution_count": null,
   "id": "7dd5e4e8",
   "metadata": {},
   "outputs": [],
   "source": [
    "# method for creating a countplot based on year\n",
    "def plot_by_year(agg_attr, title) :\n",
    "    # extracting the required fields\n",
    "    dd = train.copy()\n",
    "    dd['year']  = train.datetime.dt.year # extracting the year\n",
    "    dd['month'] = train.datetime.dt.month # extracting the month\n",
    "    dd['hour']  = train.datetime.dt.hour # extracting the hour\n",
    "    \n",
    "    by_year = dd.groupby([agg_attr,'year'])['count'].agg('sum').unstack() # groupby year\n",
    "    return by_year.plot(kind = 'bar', figsize=(15,5), width=0.9, title=title) # returning the figure grouped by year\n",
    "\n",
    "plot_by_year('month',\"Rent bikes per month in 2011 and 2012\") # plotting monthly bike rentals based on year\n",
    "plot_by_year('hour',\"Rent bikes per hour in 2011 and 2012\") # plotting hourly bike rentals based on hour\n"
   ]
  }
 ],
 "metadata": {
  "kernelspec": {
   "display_name": "Python 3 (ipykernel)",
   "language": "python",
   "name": "python3"
  },
  "language_info": {
   "codemirror_mode": {
    "name": "ipython",
    "version": 3
   },
   "file_extension": ".py",
   "mimetype": "text/x-python",
   "name": "python",
   "nbconvert_exporter": "python",
   "pygments_lexer": "ipython3",
   "version": "3.9.12"
  }
 },
 "nbformat": 4,
 "nbformat_minor": 5
}
